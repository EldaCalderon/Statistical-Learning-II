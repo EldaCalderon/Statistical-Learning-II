{
 "cells": [
  {
   "cell_type": "markdown",
   "metadata": {},
   "source": [
    "### **Nombre:** Elda Magally Calderón Motta\n",
    "### **Carné:** 16003182\n",
    "### **Sección:** U"
   ]
  },
  {
   "cell_type": "markdown",
   "metadata": {},
   "source": [
    "# **TAREA 4**\n",
    "\n",
    "# XOR con Composicion y Perceptrones\n",
    "\n",
    "## Parte 1"
   ]
  },
  {
   "cell_type": "code",
   "execution_count": 1,
   "metadata": {},
   "outputs": [],
   "source": [
    "import numpy as np"
   ]
  },
  {
   "cell_type": "code",
   "execution_count": 398,
   "metadata": {},
   "outputs": [],
   "source": [
    "def fun_not(X1):\n",
    "    x = np.array([X1,1])\n",
    "    parametros = np.array([-1,1])\n",
    "    res = int(np.sum(x * parametros) > 0)\n",
    "    return(res)"
   ]
  },
  {
   "cell_type": "code",
   "execution_count": 40,
   "metadata": {},
   "outputs": [
    {
     "data": {
      "text/plain": [
       "0"
      ]
     },
     "execution_count": 40,
     "metadata": {},
     "output_type": "execute_result"
    }
   ],
   "source": [
    "fun_not(1)"
   ]
  },
  {
   "cell_type": "code",
   "execution_count": 399,
   "metadata": {},
   "outputs": [],
   "source": [
    "def fun_or(X1,X2):\n",
    "    x = np.array([X1,X2,1])\n",
    "    parametros = np.array([1,1,0])\n",
    "    res = int(np.sum(x * parametros) > 0)\n",
    "    return(res)"
   ]
  },
  {
   "cell_type": "code",
   "execution_count": 400,
   "metadata": {},
   "outputs": [
    {
     "data": {
      "text/plain": [
       "0"
      ]
     },
     "execution_count": 400,
     "metadata": {},
     "output_type": "execute_result"
    }
   ],
   "source": [
    "fun_or(0,0)"
   ]
  },
  {
   "cell_type": "code",
   "execution_count": 32,
   "metadata": {},
   "outputs": [],
   "source": [
    "def fun_and(X1,X2):\n",
    "    x = np.array([X1,X2,1])\n",
    "    parametros = np.array([1,1,-1])\n",
    "    res = int(np.sum(x * parametros) > 0)\n",
    "    return(res)"
   ]
  },
  {
   "cell_type": "code",
   "execution_count": 37,
   "metadata": {},
   "outputs": [
    {
     "data": {
      "text/plain": [
       "0"
      ]
     },
     "execution_count": 37,
     "metadata": {},
     "output_type": "execute_result"
    }
   ],
   "source": [
    "fun_and(0,0)"
   ]
  },
  {
   "cell_type": "code",
   "execution_count": 41,
   "metadata": {},
   "outputs": [],
   "source": [
    "def fun_xor(X1,X2):\n",
    "    temp1 = fun_and(X1,X2)\n",
    "    temp2 = fun_or(X1,X2)\n",
    "    temp3 = fun_not(temp1)\n",
    "    temp4 = fun_and(temp2, temp3)\n",
    "    return(temp4)"
   ]
  },
  {
   "cell_type": "code",
   "execution_count": 45,
   "metadata": {},
   "outputs": [
    {
     "data": {
      "text/plain": [
       "0"
      ]
     },
     "execution_count": 45,
     "metadata": {},
     "output_type": "execute_result"
    }
   ],
   "source": [
    "fun_xor(1,1)"
   ]
  },
  {
   "cell_type": "markdown",
   "metadata": {},
   "source": [
    "## Parte 2"
   ]
  },
  {
   "cell_type": "markdown",
   "metadata": {},
   "source": [
    "### Entrenamiento Perceptron OR"
   ]
  },
  {
   "cell_type": "code",
   "execution_count": 457,
   "metadata": {},
   "outputs": [],
   "source": [
    "datos = np.array([[0,0,1],[0,1,1],[1,0,1],[1,1,1]])\n",
    "real = np.array([[0],[1],[1],[1]])"
   ]
  },
  {
   "cell_type": "code",
   "execution_count": 431,
   "metadata": {},
   "outputs": [],
   "source": [
    "inicio = np.array([[10,10,1]])\n",
    "lr = 0.1\n",
    "parametros = inicio"
   ]
  },
  {
   "cell_type": "code",
   "execution_count": 432,
   "metadata": {},
   "outputs": [
    {
     "name": "stdout",
     "output_type": "stream",
     "text": [
      "[[10.  10.   0.9]]\n",
      "[[10.  10.   0.8]]\n",
      "[[10.  10.   0.7]]\n",
      "[[10.  10.   0.6]]\n",
      "[[10.  10.   0.5]]\n",
      "[[10.  10.   0.4]]\n",
      "[[10.  10.   0.3]]\n",
      "[[10.  10.   0.2]]\n",
      "[[10.  10.   0.1]]\n",
      "[[1.00000000e+01 1.00000000e+01 1.38777878e-16]]\n",
      "[[10.  10.  -0.1]]\n",
      "[[10.  10.  -0.1]]\n",
      "[[10.  10.  -0.1]]\n",
      "[[10.  10.  -0.1]]\n",
      "[[10.  10.  -0.1]]\n"
     ]
    }
   ],
   "source": [
    "for j in range(15):\n",
    "    for i in range(datos.shape[0]):\n",
    "        it = int(np.sum(datos[i] * parametros) > 0)\n",
    "        if (it > 0 and real[i] == 0):\n",
    "            parametros = np.sum(parametros - lr * datos[i], axis = 0).reshape(1,3)\n",
    "        elif (it < 0 and real[i] == 1):\n",
    "            parametros = np.sum(parametros + lr * datos[i], axis = 0).reshape(1,3)\n",
    "    print(parametros)"
   ]
  },
  {
   "cell_type": "code",
   "execution_count": 459,
   "metadata": {},
   "outputs": [],
   "source": [
    "def fun_or2(X1,X2):\n",
    "    x = np.array([X1,X2,1])\n",
    "    w = np.array([parametros[0,0],parametros[0,1],parametros[0,2]])\n",
    "    res = int(np.sum(x * w) > 0)\n",
    "    return(res)"
   ]
  },
  {
   "cell_type": "code",
   "execution_count": 460,
   "metadata": {},
   "outputs": [
    {
     "data": {
      "text/plain": [
       "0"
      ]
     },
     "execution_count": 460,
     "metadata": {},
     "output_type": "execute_result"
    }
   ],
   "source": [
    "fun_or2(0,0)"
   ]
  },
  {
   "cell_type": "markdown",
   "metadata": {},
   "source": [
    "### Entrenamiento Perceptron AND"
   ]
  },
  {
   "cell_type": "code",
   "execution_count": 458,
   "metadata": {},
   "outputs": [],
   "source": [
    "datos2 = np.array([[0,0,1],[0,1,1],[1,0,1],[1,1,1]])\n",
    "real2 = np.array([[0],[0],[0],[1]])"
   ]
  },
  {
   "cell_type": "code",
   "execution_count": 450,
   "metadata": {},
   "outputs": [],
   "source": [
    "inicio2 = np.array([[8,8,1]])\n",
    "lr2 = 0.1\n",
    "parametros2 = inicio2"
   ]
  },
  {
   "cell_type": "code",
   "execution_count": 451,
   "metadata": {},
   "outputs": [
    {
     "name": "stdout",
     "output_type": "stream",
     "text": [
      "[[7.9 7.9 0.7]]\n",
      "[[7.8 7.8 0.4]]\n",
      "[[7.7 7.7 0.1]]\n",
      "[[ 7.6  7.6 -0.2]]\n",
      "[[ 7.5  7.5 -0.4]]\n",
      "[[ 7.4  7.4 -0.6]]\n",
      "[[ 7.3  7.3 -0.8]]\n",
      "[[ 7.2  7.2 -1. ]]\n",
      "[[ 7.1  7.1 -1.2]]\n",
      "[[ 7.   7.  -1.4]]\n",
      "[[ 6.9  6.9 -1.6]]\n",
      "[[ 6.8  6.8 -1.8]]\n",
      "[[ 6.7  6.7 -2. ]]\n",
      "[[ 6.6  6.6 -2.2]]\n",
      "[[ 6.5  6.5 -2.4]]\n",
      "[[ 6.4  6.4 -2.6]]\n",
      "[[ 6.3  6.3 -2.8]]\n",
      "[[ 6.2  6.2 -3. ]]\n",
      "[[ 6.1  6.1 -3.2]]\n",
      "[[ 6.   6.  -3.4]]\n",
      "[[ 5.9  5.9 -3.6]]\n",
      "[[ 5.8  5.8 -3.8]]\n",
      "[[ 5.7  5.7 -4. ]]\n",
      "[[ 5.6  5.6 -4.2]]\n",
      "[[ 5.5  5.5 -4.4]]\n",
      "[[ 5.4  5.4 -4.6]]\n",
      "[[ 5.3  5.3 -4.8]]\n",
      "[[ 5.2  5.2 -5. ]]\n",
      "[[ 5.1  5.1 -5.2]]\n",
      "[[ 5.1  5.1 -5.2]]\n",
      "[[ 5.1  5.1 -5.2]]\n",
      "[[ 5.1  5.1 -5.2]]\n",
      "[[ 5.1  5.1 -5.2]]\n",
      "[[ 5.1  5.1 -5.2]]\n",
      "[[ 5.1  5.1 -5.2]]\n",
      "[[ 5.1  5.1 -5.2]]\n",
      "[[ 5.1  5.1 -5.2]]\n",
      "[[ 5.1  5.1 -5.2]]\n",
      "[[ 5.1  5.1 -5.2]]\n",
      "[[ 5.1  5.1 -5.2]]\n"
     ]
    }
   ],
   "source": [
    "for j in range(40):\n",
    "    for i in range(datos2.shape[0]):\n",
    "        it2 = int(np.sum(datos2[i] * parametros2) > 0)\n",
    "        if (it2 > 0 and real2[i] == 0):\n",
    "            parametros2 = np.sum(parametros2 - lr2 * datos2[i], axis = 0).reshape(1,3)\n",
    "        elif (it2 < 0 and real2[i] == 1):\n",
    "            parametros2 = np.sum(parametros2 + lr2 * datos2[i], axis = 0).reshape(1,3)\n",
    "    print(parametros2)"
   ]
  },
  {
   "cell_type": "code",
   "execution_count": 461,
   "metadata": {},
   "outputs": [],
   "source": [
    "def fun_and2(X1,X2):\n",
    "    x = np.array([X1,X2,1])\n",
    "    w = np.array([parametros2[0,0],parametros2[0,1],parametros2[0,2]])\n",
    "    res = int(np.sum(x * w) > 0)\n",
    "    return(res)"
   ]
  },
  {
   "cell_type": "code",
   "execution_count": 464,
   "metadata": {},
   "outputs": [
    {
     "data": {
      "text/plain": [
       "1"
      ]
     },
     "execution_count": 464,
     "metadata": {},
     "output_type": "execute_result"
    }
   ],
   "source": [
    "fun_and2(1,1)"
   ]
  },
  {
   "cell_type": "markdown",
   "metadata": {},
   "source": [
    "### Funcion XOR con Perceptrones Entrenados"
   ]
  },
  {
   "cell_type": "code",
   "execution_count": 465,
   "metadata": {},
   "outputs": [],
   "source": [
    "def fun_xor2(X1,X2):\n",
    "    temp1 = fun_and2(X1,X2)\n",
    "    temp2 = fun_or2(X1,X2)\n",
    "    temp3 = fun_not(temp1)\n",
    "    temp4 = fun_and2(temp2, temp3)\n",
    "    return(temp4)"
   ]
  },
  {
   "cell_type": "code",
   "execution_count": 470,
   "metadata": {},
   "outputs": [
    {
     "data": {
      "text/plain": [
       "0"
      ]
     },
     "execution_count": 470,
     "metadata": {},
     "output_type": "execute_result"
    }
   ],
   "source": [
    "fun_xor2(1,1)"
   ]
  }
 ],
 "metadata": {
  "kernelspec": {
   "display_name": "Python 3",
   "language": "python",
   "name": "python3"
  },
  "language_info": {
   "codemirror_mode": {
    "name": "ipython",
    "version": 3
   },
   "file_extension": ".py",
   "mimetype": "text/x-python",
   "name": "python",
   "nbconvert_exporter": "python",
   "pygments_lexer": "ipython3",
   "version": "3.7.6"
  }
 },
 "nbformat": 4,
 "nbformat_minor": 4
}
