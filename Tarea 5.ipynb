{
 "cells": [
  {
   "cell_type": "markdown",
   "metadata": {},
   "source": [
    "### **Nombre:** Elda Magally Calderón Motta\n",
    "### **Carné:** 16003182\n",
    "### **Sección:** U"
   ]
  },
  {
   "cell_type": "markdown",
   "metadata": {},
   "source": [
    "# **TAREA 5**\n",
    "\n",
    "# Forward Propagation y Analisis de Representaciones Intermedias"
   ]
  },
  {
   "cell_type": "code",
   "execution_count": 2,
   "metadata": {},
   "outputs": [],
   "source": [
    "import numpy as np\n",
    "import matplotlib.pyplot as plt"
   ]
  },
  {
   "cell_type": "markdown",
   "metadata": {},
   "source": [
    "## Diagrama 1\n",
    "\n",
    "<img src = 'http://imgfz.com/i/3Yjyouh.png'>"
   ]
  },
  {
   "cell_type": "markdown",
   "metadata": {},
   "source": [
    "Para este diagrama se va a tomar el numero dentro de las neuronas de la capa intermedia y de salida como el sesgo, por lo que tiene un total de **9 parametros entrenables**"
   ]
  },
  {
   "cell_type": "markdown",
   "metadata": {},
   "source": [
    "### Forward Propagation"
   ]
  },
  {
   "cell_type": "code",
   "execution_count": 175,
   "metadata": {},
   "outputs": [],
   "source": [
    "def sigmoid(X):\n",
    "    return 1 / (1 + np.exp(-X))"
   ]
  },
  {
   "cell_type": "code",
   "execution_count": 176,
   "metadata": {},
   "outputs": [],
   "source": [
    "# parametros capa intera y de salida\n",
    "\n",
    "w_capa1 = wc1 = np.array([\n",
    "    [5, -2, -8], \n",
    "    [7, -3, 1]\n",
    "])\n",
    "\n",
    "w_capa2 = np.array([[7, 5, -6]])"
   ]
  },
  {
   "cell_type": "code",
   "execution_count": 177,
   "metadata": {},
   "outputs": [],
   "source": [
    "# matriz de datos x\n",
    "\n",
    "mu, sigma = 5, 2\n",
    "x = np.random.normal(mu, sigma, 10).reshape(-1,2)\n",
    "\n",
    "unos = np.ones([x.shape[0],1])\n",
    "\n",
    "matriz_x = np.concatenate((x,unos),axis = 1) # para multiplicar por el sesgo"
   ]
  },
  {
   "cell_type": "code",
   "execution_count": 178,
   "metadata": {},
   "outputs": [
    {
     "data": {
      "text/plain": [
       "array([[ 5,  7],\n",
       "       [-2, -3],\n",
       "       [-8,  1]])"
      ]
     },
     "execution_count": 178,
     "metadata": {},
     "output_type": "execute_result"
    }
   ],
   "source": [
    "w_capa1.T"
   ]
  },
  {
   "cell_type": "code",
   "execution_count": 179,
   "metadata": {},
   "outputs": [
    {
     "data": {
      "text/plain": [
       "array([[4.03882973, 7.46396505, 1.        ],\n",
       "       [3.48743985, 6.84893947, 1.        ],\n",
       "       [6.59537803, 3.60035777, 1.        ],\n",
       "       [4.66557982, 3.0989387 , 1.        ],\n",
       "       [6.68352164, 6.00978787, 1.        ]])"
      ]
     },
     "execution_count": 179,
     "metadata": {},
     "output_type": "execute_result"
    }
   ],
   "source": [
    "matriz_x"
   ]
  },
  {
   "cell_type": "code",
   "execution_count": 180,
   "metadata": {},
   "outputs": [],
   "source": [
    "# matriz con representaciones intermedias\n",
    "H = np.matmul(matriz_x, w_capa1.T)\n",
    "rep_int = np.concatenate((sigmoid(H),unos), axis=1) # para multiplicar por el sesgo"
   ]
  },
  {
   "cell_type": "code",
   "execution_count": 181,
   "metadata": {},
   "outputs": [
    {
     "data": {
      "text/plain": [
       "array([[0.06100918, 0.99897282, 1.        ],\n",
       "       [0.01391631, 0.99234917, 1.        ],\n",
       "       [0.99999998, 1.        , 1.        ],\n",
       "       [0.99989165, 1.        , 1.        ],\n",
       "       [0.99999848, 1.        , 1.        ]])"
      ]
     },
     "execution_count": 181,
     "metadata": {},
     "output_type": "execute_result"
    }
   ],
   "source": [
    "rep_int"
   ]
  },
  {
   "cell_type": "code",
   "execution_count": 182,
   "metadata": {},
   "outputs": [
    {
     "data": {
      "text/plain": [
       "array([[ 7],\n",
       "       [ 5],\n",
       "       [-6]])"
      ]
     },
     "execution_count": 182,
     "metadata": {},
     "output_type": "execute_result"
    }
   ],
   "source": [
    "w_capa2.T"
   ]
  },
  {
   "cell_type": "code",
   "execution_count": 183,
   "metadata": {},
   "outputs": [],
   "source": [
    "y_aprox = sigmoid(np.matmul(rep_int, w_capa2.T))"
   ]
  },
  {
   "cell_type": "code",
   "execution_count": 184,
   "metadata": {},
   "outputs": [
    {
     "data": {
      "text/plain": [
       "array([[0.35937643],\n",
       "       [0.2807307 ],\n",
       "       [0.99752738],\n",
       "       [0.99752551],\n",
       "       [0.99752735]])"
      ]
     },
     "execution_count": 184,
     "metadata": {},
     "output_type": "execute_result"
    }
   ],
   "source": [
    "y_aprox"
   ]
  },
  {
   "cell_type": "markdown",
   "metadata": {},
   "source": [
    "## Diagrama 2\n",
    "\n",
    "<img src = 'http://imgfz.com/i/qu3dysD.png'>"
   ]
  },
  {
   "cell_type": "markdown",
   "metadata": {},
   "source": [
    "Para este diagrama se va a considerar que no tiene sesgo, en el diagrama no se grafica pero se va a considerar que cada neurona de la capa interna esta conectada con cada neurona de la capa de entrada, por lo que tiene un total de **12 parametros entrenables**"
   ]
  },
  {
   "cell_type": "markdown",
   "metadata": {},
   "source": [
    "### Forward Propagation"
   ]
  },
  {
   "cell_type": "code",
   "execution_count": 185,
   "metadata": {},
   "outputs": [],
   "source": [
    "def sigmoid(X):\n",
    "    return 1 / (1 + np.exp(-X))"
   ]
  },
  {
   "cell_type": "code",
   "execution_count": 241,
   "metadata": {},
   "outputs": [],
   "source": [
    "# parametros capa intera y de salida\n",
    "\n",
    "mu2, sigma2 = 0.5, 1\n",
    "w_modelo2_capa1 = np.random.normal(mu2, sigma2, 8).reshape(-1,2)\n",
    "\n",
    "mu3, sigma3 = 0.8, 1\n",
    "w_modelo2_capa2 = np.random.normal(mu3, sigma3, 4).reshape(-1,4)"
   ]
  },
  {
   "cell_type": "code",
   "execution_count": 252,
   "metadata": {},
   "outputs": [],
   "source": [
    "# matriz de datos x\n",
    "\n",
    "mu4, sigma4 = 3, 0.5\n",
    "x_modelo2 = np.random.normal(mu4, sigma4, 10).reshape(-1,2)"
   ]
  },
  {
   "cell_type": "code",
   "execution_count": 246,
   "metadata": {},
   "outputs": [
    {
     "data": {
      "text/plain": [
       "array([[3.10832208, 2.62100769],\n",
       "       [3.11710334, 1.99322037],\n",
       "       [2.5972064 , 3.66188896],\n",
       "       [4.00685972, 3.15272365],\n",
       "       [3.08401084, 3.25631148]])"
      ]
     },
     "execution_count": 246,
     "metadata": {},
     "output_type": "execute_result"
    }
   ],
   "source": [
    "x_modelo2"
   ]
  },
  {
   "cell_type": "code",
   "execution_count": 251,
   "metadata": {},
   "outputs": [
    {
     "data": {
      "text/plain": [
       "array([[ 0.70999091,  0.87097501,  2.09145193, -1.72151081],\n",
       "       [-0.07957177,  1.47774041, -0.62435904, -0.54464112]])"
      ]
     },
     "execution_count": 251,
     "metadata": {},
     "output_type": "execute_result"
    }
   ],
   "source": [
    "w_modelo2_capa1.T"
   ]
  },
  {
   "cell_type": "code",
   "execution_count": 243,
   "metadata": {},
   "outputs": [],
   "source": [
    "# matriz con representaciones intermedias\n",
    "H2 = np.matmul(x_modelo2, w_modelo2_capa1.T)\n",
    "rep_int2 = (sigmoid(H2))"
   ]
  },
  {
   "cell_type": "code",
   "execution_count": 253,
   "metadata": {},
   "outputs": [],
   "source": [
    "y_aprox2 = sigmoid(np.matmul(rep_int2, w_modelo2_capa2.T))"
   ]
  },
  {
   "cell_type": "code",
   "execution_count": 254,
   "metadata": {},
   "outputs": [
    {
     "data": {
      "text/plain": [
       "array([[0.88892792],\n",
       "       [0.8899012 ],\n",
       "       [0.87844558],\n",
       "       [0.89312212],\n",
       "       [0.88757567]])"
      ]
     },
     "execution_count": 254,
     "metadata": {},
     "output_type": "execute_result"
    }
   ],
   "source": [
    "y_aprox2"
   ]
  },
  {
   "cell_type": "markdown",
   "metadata": {},
   "source": [
    "## Diagrama 3\n",
    "\n",
    "<img src = 'http://imgfz.com/i/XJHcsVF.png'>"
   ]
  },
  {
   "cell_type": "markdown",
   "metadata": {},
   "source": [
    "Para este diagrama se va a considerar que no tiene sesgo, por lo que tiene un total de **20 parametros entrenables**"
   ]
  },
  {
   "cell_type": "markdown",
   "metadata": {},
   "source": [
    "### Forward Propagation"
   ]
  },
  {
   "cell_type": "code",
   "execution_count": 264,
   "metadata": {},
   "outputs": [],
   "source": [
    "# parametros capa intera y de salida\n",
    "\n",
    "mu5, sigma5 = 0.5, 0.3\n",
    "w_modelo3_capa1 = np.random.normal(mu5, sigma5, 12).reshape(-1,3)\n",
    "\n",
    "mu6, sigma6 = 0.5, 0.3\n",
    "w_modelo3_capa2 = np.random.normal(mu6, sigma6, 8).reshape(-1,4)"
   ]
  },
  {
   "cell_type": "code",
   "execution_count": 261,
   "metadata": {},
   "outputs": [],
   "source": [
    "# matriz de datos x\n",
    "\n",
    "mu7, sigma7 = 2, 0.5\n",
    "x_modelo3 = np.random.normal(mu7, sigma7, 15).reshape(-1,3)"
   ]
  },
  {
   "cell_type": "code",
   "execution_count": 262,
   "metadata": {},
   "outputs": [
    {
     "data": {
      "text/plain": [
       "array([[1.54686049, 2.48156487, 2.03444758],\n",
       "       [1.77665254, 1.80646617, 2.58167127],\n",
       "       [2.02104584, 2.36522495, 0.93919809],\n",
       "       [2.33825053, 1.56047883, 2.49097569],\n",
       "       [1.26154974, 1.4860123 , 1.83120257]])"
      ]
     },
     "execution_count": 262,
     "metadata": {},
     "output_type": "execute_result"
    }
   ],
   "source": [
    "x_modelo3"
   ]
  },
  {
   "cell_type": "code",
   "execution_count": 259,
   "metadata": {},
   "outputs": [
    {
     "data": {
      "text/plain": [
       "array([[0.16511762, 0.68346185, 0.32257382, 0.34264139],\n",
       "       [0.59873226, 0.33288142, 1.05590195, 0.60589207],\n",
       "       [0.62728132, 0.33880014, 0.12944683, 0.18683195]])"
      ]
     },
     "execution_count": 259,
     "metadata": {},
     "output_type": "execute_result"
    }
   ],
   "source": [
    "w_modelo3_capa1.T"
   ]
  },
  {
   "cell_type": "code",
   "execution_count": 263,
   "metadata": {},
   "outputs": [],
   "source": [
    "# matriz con representaciones intermedias\n",
    "H3 = np.matmul(x_modelo3, w_modelo3_capa1.T)\n",
    "rep_int3 = (sigmoid(H3))"
   ]
  },
  {
   "cell_type": "code",
   "execution_count": 272,
   "metadata": {},
   "outputs": [
    {
     "data": {
      "text/plain": [
       "array([[0.95335305, 0.92907445, 0.96715689, 0.91786444],\n",
       "       [0.9523196 , 0.93645088, 0.94346727, 0.89895045],\n",
       "       [0.91205496, 0.92321463, 0.96341896, 0.9089629 ],\n",
       "       [0.94699652, 0.95080431, 0.93845232, 0.90132702],\n",
       "       [0.90436609, 0.87839291, 0.90141704, 0.84220801]])"
      ]
     },
     "execution_count": 272,
     "metadata": {},
     "output_type": "execute_result"
    }
   ],
   "source": [
    "rep_int3"
   ]
  },
  {
   "cell_type": "code",
   "execution_count": 269,
   "metadata": {},
   "outputs": [
    {
     "data": {
      "text/plain": [
       "array([[0.58540095, 0.32246837],\n",
       "       [0.78472861, 0.16973063],\n",
       "       [0.62562519, 0.86288095],\n",
       "       [0.67706814, 0.39709562]])"
      ]
     },
     "execution_count": 269,
     "metadata": {},
     "output_type": "execute_result"
    }
   ],
   "source": [
    "w_modelo3_capa2.T"
   ]
  },
  {
   "cell_type": "code",
   "execution_count": 270,
   "metadata": {},
   "outputs": [],
   "source": [
    "y_aprox3 = sigmoid(np.matmul(rep_int3, w_modelo3_capa2.T))"
   ]
  },
  {
   "cell_type": "code",
   "execution_count": 271,
   "metadata": {},
   "outputs": [
    {
     "data": {
      "text/plain": [
       "array([[0.92509665, 0.84079294],\n",
       "       [0.92352657, 0.83714084],\n",
       "       [0.92248215, 0.83795193],\n",
       "       [0.92399273, 0.83677733],\n",
       "       [0.91316432, 0.82534262]])"
      ]
     },
     "execution_count": 271,
     "metadata": {},
     "output_type": "execute_result"
    }
   ],
   "source": [
    "y_aprox3"
   ]
  },
  {
   "cell_type": "code",
   "execution_count": 274,
   "metadata": {},
   "outputs": [
    {
     "data": {
      "text/plain": [
       "array([[3.01737784, 2.5725581 , 3.38261868, 2.41367872],\n",
       "       [2.99438039, 2.69028384, 2.81474191, 2.18561691],\n",
       "       [2.33898818, 2.48684761, 3.27095834, 2.3010372 ],\n",
       "       [2.8829379 , 2.96150235, 2.72441995, 2.21205701],\n",
       "       [2.24670676, 1.97729869, 2.21306957, 1.67474937]])"
      ]
     },
     "execution_count": 274,
     "metadata": {},
     "output_type": "execute_result"
    }
   ],
   "source": [
    "H3"
   ]
  },
  {
   "cell_type": "markdown",
   "metadata": {},
   "source": [
    "### Analisis Representacion Intermedia\n",
    "\n",
    "Si se observa el vector de parámetros para la capa oculta de la red neuronal se podría determinar que variable tiene más peso o influye de mayor medida para cada neurona de la capa interna. \n",
    "\n",
    "Cada neurona de la capa interna va a tener tres parámetros relacionados a la variable de entrada. Entonces, si se analizan los parámetros para cada neurona y se ordenan de mayor a menor en su peso según se observa en el vector de parámetros, quedaría de la siguiente forma:\n",
    "\n",
    "* Neurona oculta 1: variable 3, variable 2, variable 1\n",
    "* Neurona oculta 2: variable 1, variable 3, variable 2\n",
    "* Neurona oculta 3: variable 2, variable 1, variable 3\n",
    "* Neurona oculta 4: variable 2, variable 1, variable 3\n",
    "\n",
    "Esto quiere decir que en la neurona oculta 1, la variable que más peso o mayor influencia tiene en su representación intermedia es la variable 3 (neurona de entrada 3), luego la 2 y la que menos influye es la 1. Esto es igual para las otras neuronas ocultas según el orden que se indica arriba.\n",
    "\n",
    "De esta forma se puede intentar dar una interpretabilidad a cada una de las neuronas de la capa oculta según las variables que mayor representación tienen en la misma.\n",
    "\n",
    "Otro aspecto importante a analizar en las representaciones intermedias es la activación de las neuronas, esta se da cuando la feature que representa la neurona oculta este presente en las entradas. Si se visualiza la variable H3 que contiene el producto punto entre pesos y entradas se puede ver que neurona de la capa oculta se activa más para cada entrada.\n",
    "\n",
    "Para la primer entrada por ejemplo, el tercer valor (3.3826) es el más grande, por lo que la neurona oculta que más se activa es la número 3. Esto también se puede interpretar que el vector de entrada 1 es muy similar al vector de parámetros de la neurona 3, por lo que causa una mayor activación en la misma."
   ]
  },
  {
   "cell_type": "code",
   "execution_count": 281,
   "metadata": {},
   "outputs": [
    {
     "data": {
      "text/plain": [
       "Text(0.5, 1.0, 'Representacion Intermedia')"
      ]
     },
     "execution_count": 281,
     "metadata": {},
     "output_type": "execute_result"
    },
    {
     "data": {
      "image/png": "[encoded data removed]",
      "text/plain": [
       "<Figure size 432x288 with 1 Axes>"
      ]
     },
     "metadata": {
      "needs_background": "light"
     },
     "output_type": "display_data"
    }
   ],
   "source": [
    "plt.scatter(H3, rep_int3)\n",
    "plt.xlabel('Producto Punto')\n",
    "plt.ylabel('Activacion')\n",
    "plt.title('Representacion Intermedia')"
   ]
  }
 ],
 "metadata": {
  "kernelspec": {
   "display_name": "Python 3",
   "language": "python",
   "name": "python3"
  },
  "language_info": {
   "codemirror_mode": {
    "name": "ipython",
    "version": 3
   },
   "file_extension": ".py",
   "mimetype": "text/x-python",
   "name": "python",
   "nbconvert_exporter": "python",
   "pygments_lexer": "ipython3",
   "version": "3.7.6"
  }
 },
 "nbformat": 4,
 "nbformat_minor": 4
}
