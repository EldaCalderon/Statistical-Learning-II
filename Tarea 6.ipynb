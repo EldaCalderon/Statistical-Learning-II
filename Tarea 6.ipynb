{
 "cells": [
  {
   "cell_type": "markdown",
   "metadata": {},
   "source": [
    "### **Nombre:** Elda Magally Calderón Motta\n",
    "### **Carné:** 16003182\n",
    "### **Sección:** U"
   ]
  },
  {
   "cell_type": "markdown",
   "metadata": {},
   "source": [
    "# **TAREA 6**\n",
    "\n",
    "# Primera Parte \n",
    "\n",
    "## Backward Propagation Delta (Error Simplificado)"
   ]
  },
  {
   "cell_type": "code",
   "execution_count": 1,
   "metadata": {},
   "outputs": [],
   "source": [
    "import numpy as np\n",
    "import matplotlib.pyplot as plt"
   ]
  },
  {
   "cell_type": "markdown",
   "metadata": {},
   "source": [
    "## Diagrama\n",
    "\n",
    "<img src = 'http://imgfz.com/i/2AOBoZL.png'>"
   ]
  },
  {
   "cell_type": "markdown",
   "metadata": {},
   "source": [
    "### Backward Propagation"
   ]
  },
  {
   "cell_type": "code",
   "execution_count": 2,
   "metadata": {},
   "outputs": [],
   "source": [
    "# Vector error capa de salida\n",
    "error_salida = np.array([[3,10]])"
   ]
  },
  {
   "cell_type": "code",
   "execution_count": 3,
   "metadata": {},
   "outputs": [],
   "source": [
    "# Parametros capa 3\n",
    "w_capa3 = np.array([\n",
    "    [-0.23, 0.22, 0.77], \n",
    "    [0.9, 0.88, -0.4],\n",
    "])"
   ]
  },
  {
   "cell_type": "code",
   "execution_count": 4,
   "metadata": {},
   "outputs": [],
   "source": [
    "# Propagacion del error a la capa 3\n",
    "error_capa3 = np.matmul(error_salida, w_capa3)"
   ]
  },
  {
   "cell_type": "code",
   "execution_count": 5,
   "metadata": {},
   "outputs": [],
   "source": [
    "# Parametros capa 2\n",
    "w_capa2 = np.array([\n",
    "    [-0.3, 0.62, 0.45], \n",
    "    [0.45, 0.57, 0.48],\n",
    "    [0.65, 0.58, -0.45]\n",
    "])"
   ]
  },
  {
   "cell_type": "code",
   "execution_count": 6,
   "metadata": {},
   "outputs": [],
   "source": [
    "# Propagacion del error a la capa 2\n",
    "error_capa2 = np.matmul(error_capa3, w_capa2)"
   ]
  },
  {
   "cell_type": "code",
   "execution_count": 7,
   "metadata": {},
   "outputs": [],
   "source": [
    "# Parametros capa 1\n",
    "w_capa1 = np.array([\n",
    "    [0.3, 0.46, 0.02], \n",
    "    [0.22, -0.7, 0.65],\n",
    "    [0.65, 0.9, 0.34]\n",
    "])"
   ]
  },
  {
   "cell_type": "code",
   "execution_count": 8,
   "metadata": {},
   "outputs": [],
   "source": [
    "# Propagacion del error a la capa 1 (entrada)\n",
    "error_capa1 = np.matmul(error_capa2, w_capa1)"
   ]
  },
  {
   "cell_type": "code",
   "execution_count": 9,
   "metadata": {},
   "outputs": [
    {
     "name": "stdout",
     "output_type": "stream",
     "text": [
      "Error Neuronas Capa 1: [[8.180294 1.74791  9.303912]]\n",
      "Error Neuronas Capa 2: [[0.6655 9.5642 9.0408]]\n",
      "Error Neuronas Capa 3: [[ 8.31  9.46 -1.69]]\n",
      "Error Neuronas Capa Salida: [[ 3 10]]\n"
     ]
    }
   ],
   "source": [
    "# Errores por neurona\n",
    "\n",
    "print('Error Neuronas Capa 1:', error_capa1)\n",
    "print('Error Neuronas Capa 2:', error_capa2)\n",
    "print('Error Neuronas Capa 3:', error_capa3)\n",
    "print('Error Neuronas Capa Salida:', error_salida)"
   ]
  },
  {
   "cell_type": "markdown",
   "metadata": {},
   "source": [
    "# Segunda Parte \n",
    "\n",
    "## Entrenar Aproximador para XOR"
   ]
  },
  {
   "cell_type": "markdown",
   "metadata": {},
   "source": [
    "### Red Neuronal XOR\n",
    "\n",
    "<img src = 'http://imgfz.com/i/aYX8w9y.jpeg'>"
   ]
  },
  {
   "cell_type": "markdown",
   "metadata": {},
   "source": [
    "### Feedforward Propagation"
   ]
  },
  {
   "cell_type": "code",
   "execution_count": 10,
   "metadata": {},
   "outputs": [],
   "source": [
    "# Vector de entrada:\n",
    "\n",
    "vector_input = np.array([\n",
    "    [0,0],\n",
    "    [0,1],\n",
    "    [1,0],\n",
    "    [1,1]\n",
    "])\n",
    "\n",
    "y_real = np.array([\n",
    "    [0],\n",
    "    [1],\n",
    "    [1],\n",
    "    [0]\n",
    "])"
   ]
  },
  {
   "cell_type": "code",
   "execution_count": 70,
   "metadata": {},
   "outputs": [],
   "source": [
    "# Inicilizando parametros aleatoriamente \n",
    "# Neuronas en filas\n",
    "\n",
    "mu, sigma = 0, 0.1\n",
    "w2 = np.random.normal(mu, sigma, 6).reshape(2,-1)\n",
    "w3 = np.random.normal(mu, sigma, 6).reshape(3,-1)\n",
    "w4 = np.random.normal(mu, sigma, 2).reshape(2,-1)"
   ]
  },
  {
   "cell_type": "code",
   "execution_count": 12,
   "metadata": {},
   "outputs": [],
   "source": [
    "# Funcion Relu\n",
    "\n",
    "def relu(x):\n",
    "    a = x\n",
    "    a[a < 0] = 0\n",
    "    return a"
   ]
  },
  {
   "cell_type": "code",
   "execution_count": 71,
   "metadata": {},
   "outputs": [],
   "source": [
    "# Representaciones Intermedias\n",
    "H1 = np.matmul(vector_input, w2)\n",
    "act1 = relu(H1)"
   ]
  },
  {
   "cell_type": "code",
   "execution_count": 72,
   "metadata": {},
   "outputs": [],
   "source": [
    "H2 = np.matmul(act1, w3)\n",
    "act2 = relu(H2)"
   ]
  },
  {
   "cell_type": "code",
   "execution_count": 73,
   "metadata": {},
   "outputs": [],
   "source": [
    "H3 = np.matmul(act2, w4)\n",
    "vector_output = H3"
   ]
  },
  {
   "cell_type": "code",
   "execution_count": 74,
   "metadata": {},
   "outputs": [
    {
     "data": {
      "text/plain": [
       "array([[0.        ],\n",
       "       [0.00023408],\n",
       "       [0.00036588],\n",
       "       [0.00058047]])"
      ]
     },
     "execution_count": 74,
     "metadata": {},
     "output_type": "execute_result"
    }
   ],
   "source": [
    "vector_output"
   ]
  },
  {
   "cell_type": "markdown",
   "metadata": {},
   "source": [
    "### Backward Propagation"
   ]
  },
  {
   "cell_type": "code",
   "execution_count": 18,
   "metadata": {},
   "outputs": [],
   "source": [
    "# Funcion Derivada Relu\n",
    "\n",
    "def der_relu(x):\n",
    "    a = x\n",
    "    a[a >= 0] = 1\n",
    "    a[a < 0] = 0\n",
    "    return (a)"
   ]
  },
  {
   "cell_type": "code",
   "execution_count": 76,
   "metadata": {},
   "outputs": [],
   "source": [
    "# Error en Salida\n",
    "error_salida = y_real - vector_output"
   ]
  },
  {
   "cell_type": "code",
   "execution_count": 77,
   "metadata": {},
   "outputs": [],
   "source": [
    "delta_capa3 = np.matmul(error_salida, w4.T)*der_relu(H2)"
   ]
  },
  {
   "cell_type": "code",
   "execution_count": 78,
   "metadata": {},
   "outputs": [],
   "source": [
    "delta_capa2 = np.matmul(delta_capa3, w3.T)*der_relu(H1)"
   ]
  },
  {
   "cell_type": "code",
   "execution_count": 90,
   "metadata": {},
   "outputs": [],
   "source": [
    "dw4 = np.matmul(error_salida.T, act2) / len(vector_input)"
   ]
  },
  {
   "cell_type": "code",
   "execution_count": 91,
   "metadata": {},
   "outputs": [],
   "source": [
    "dw3 = np.matmul(delta_capa3.T, act1) / len(vector_input)"
   ]
  },
  {
   "cell_type": "code",
   "execution_count": 92,
   "metadata": {},
   "outputs": [],
   "source": [
    "dw2 = np.matmul(delta_capa2.T, vector_input) / len(vector_input)"
   ]
  },
  {
   "cell_type": "code",
   "execution_count": 93,
   "metadata": {},
   "outputs": [],
   "source": [
    "# Gradiente Descent\n",
    "lr = 0.1\n",
    "\n",
    "w2 = w2 - lr*dw2.T\n",
    "w3 = w3 - lr*dw3.T\n",
    "w4 = w4 - lr*dw4.T"
   ]
  },
  {
   "cell_type": "code",
   "execution_count": 95,
   "metadata": {},
   "outputs": [
    {
     "data": {
      "text/plain": [
       "array([[0.00069026, 0.00069036],\n",
       "       [0.00038278, 0.00038283],\n",
       "       [0.00018336, 0.00018339]])"
      ]
     },
     "execution_count": 95,
     "metadata": {},
     "output_type": "execute_result"
    }
   ],
   "source": [
    "dw2"
   ]
  },
  {
   "cell_type": "code",
   "execution_count": 96,
   "metadata": {},
   "outputs": [
    {
     "name": "stdout",
     "output_type": "stream",
     "text": [
      "[[ 0.00000000e+00]\n",
      " [ 9.99765919e-01]\n",
      " [ 9.99634119e-01]\n",
      " [-5.80470729e-04]]\n"
     ]
    }
   ],
   "source": [
    "print(error_salida)"
   ]
  },
  {
   "cell_type": "markdown",
   "metadata": {},
   "source": [
    "# Funcion"
   ]
  },
  {
   "cell_type": "code",
   "execution_count": 177,
   "metadata": {},
   "outputs": [],
   "source": [
    "# Vector de entrada:\n",
    "\n",
    "vector_input = np.array([\n",
    "    [0,0],\n",
    "    [0,1],\n",
    "    [1,0],\n",
    "    [1,1]\n",
    "])\n",
    "\n",
    "y_real = np.array([\n",
    "    [0],\n",
    "    [1],\n",
    "    [1],\n",
    "    [0]\n",
    "])\n",
    "\n",
    "# Inicilizando parametros aleatoriamente \n",
    "# Neuronas en filas\n",
    "\n",
    "mu, sigma = 0, 0.1\n",
    "w2 = np.random.normal(mu, sigma, 6).reshape(2,-1)\n",
    "w3 = np.random.normal(mu, sigma, 6).reshape(3,-1)\n",
    "w4 = np.random.normal(mu, sigma, 2).reshape(2,-1)"
   ]
  },
  {
   "cell_type": "code",
   "execution_count": 178,
   "metadata": {},
   "outputs": [
    {
     "name": "stdout",
     "output_type": "stream",
     "text": [
      "resultado: 0 [[0.00000000e+00]\n",
      " [2.80734203e-04]\n",
      " [0.00000000e+00]\n",
      " [2.86945324e-05]]\n",
      "error: 0 [[ 0.00000000e+00]\n",
      " [-9.99719266e-01]\n",
      " [-1.00000000e+00]\n",
      " [ 2.86945324e-05]]\n",
      "resultado: 20 [[0.        ]\n",
      " [0.00032861]\n",
      " [0.        ]\n",
      " [0.00010221]]\n",
      "error: 20 [[ 0.00000000e+00]\n",
      " [-9.99671393e-01]\n",
      " [-1.00000000e+00]\n",
      " [ 1.02214566e-04]]\n",
      "resultado: 40 [[0.        ]\n",
      " [0.00038338]\n",
      " [0.        ]\n",
      " [0.00018598]]\n",
      "error: 40 [[ 0.00000000e+00]\n",
      " [-9.99616622e-01]\n",
      " [-1.00000000e+00]\n",
      " [ 1.85979645e-04]]\n",
      "resultado: 60 [[0.        ]\n",
      " [0.00044663]\n",
      " [0.        ]\n",
      " [0.00028266]]\n",
      "error: 60 [[ 0.00000000e+00]\n",
      " [-9.99553372e-01]\n",
      " [-1.00000000e+00]\n",
      " [ 2.82656138e-04]]\n",
      "resultado: 80 [[0.        ]\n",
      " [0.00052033]\n",
      " [0.        ]\n",
      " [0.0003956 ]]\n",
      "error: 80 [[ 0.00000000e+00]\n",
      " [-9.99479667e-01]\n",
      " [-1.00000000e+00]\n",
      " [ 3.95595756e-04]]\n",
      "resultado: 100 [[0.        ]\n",
      " [0.00060701]\n",
      " [0.        ]\n",
      " [0.00052907]]\n",
      "error: 100 [[ 0.00000000e+00]\n",
      " [-9.99392995e-01]\n",
      " [-1.00000000e+00]\n",
      " [ 5.29067995e-04]]\n",
      "resultado: 120 [[0.        ]\n",
      " [0.00070987]\n",
      " [0.        ]\n",
      " [0.00068858]]\n",
      "error: 120 [[ 0.00000000e+00]\n",
      " [-9.99290134e-01]\n",
      " [-1.00000000e+00]\n",
      " [ 6.88582834e-04]]\n",
      "resultado: 140 [[0.        ]\n",
      " [0.0008335 ]\n",
      " [0.        ]\n",
      " [0.00088177]]\n",
      "error: 140 [[ 0.00000000e+00]\n",
      " [-9.99166504e-01]\n",
      " [-1.00000000e+00]\n",
      " [ 8.81765084e-04]]\n",
      "resultado: 160 [[0.        ]\n",
      " [0.00098547]\n",
      " [0.        ]\n",
      " [0.00112642]]\n",
      "error: 160 [[ 0.        ]\n",
      " [-0.99901453]\n",
      " [-1.        ]\n",
      " [ 0.00112642]]\n",
      "resultado: 180 [[0.        ]\n",
      " [0.00117531]\n",
      " [0.        ]\n",
      " [0.00148876]]\n",
      "error: 180 [[ 0.        ]\n",
      " [-0.99882469]\n",
      " [-1.        ]\n",
      " [ 0.00148876]]\n",
      "resultado: 200 [[0.00000000e+00]\n",
      " [1.43518710e-03]\n",
      " [5.00288660e-05]\n",
      " [1.94902371e-03]]\n",
      "error: 200 [[ 0.        ]\n",
      " [-0.99856481]\n",
      " [-0.99994997]\n",
      " [ 0.00194902]]\n",
      "resultado: 220 [[0.        ]\n",
      " [0.00180365]\n",
      " [0.00032926]\n",
      " [0.002567  ]]\n",
      "error: 220 [[ 0.        ]\n",
      " [-0.99819635]\n",
      " [-0.99967074]\n",
      " [ 0.002567  ]]\n",
      "resultado: 240 [[0.        ]\n",
      " [0.00232018]\n",
      " [0.00071323]\n",
      " [0.00343774]]\n",
      "error: 240 [[ 0.        ]\n",
      " [-0.99767982]\n",
      " [-0.99928677]\n",
      " [ 0.00343774]]\n",
      "resultado: 260 [[0.        ]\n",
      " [0.00306927]\n",
      " [0.00127231]\n",
      " [0.00471249]]\n",
      "error: 260 [[ 0.        ]\n",
      " [-0.99693073]\n",
      " [-0.99872769]\n",
      " [ 0.00471249]]\n",
      "resultado: 280 [[0.        ]\n",
      " [0.0041993 ]\n",
      " [0.0021311 ]\n",
      " [0.00665917]]\n",
      "error: 280 [[ 0.        ]\n",
      " [-0.9958007 ]\n",
      " [-0.9978689 ]\n",
      " [ 0.00665917]]\n"
     ]
    }
   ],
   "source": [
    "lr = 0.1\n",
    "\n",
    "for i in range(300):\n",
    "    # Representaciones Intermedias\n",
    "    H1 = np.matmul(vector_input, w2)\n",
    "    act1 = relu(H1)\n",
    "\n",
    "    H2 = np.matmul(act1, w3)\n",
    "    act2 = relu(H2)\n",
    "\n",
    "    H3 = np.matmul(act2, w4)\n",
    "    vector_output = H3\n",
    "\n",
    "    # Deltas\n",
    "    error_salida = vector_output - y_real\n",
    "    delta_capa3 = np.matmul(error_salida, w4.T)*der_relu(H2)\n",
    "    delta_capa2 = np.matmul(delta_capa3, w3.T)*der_relu(H1)\n",
    "\n",
    "    H1 = np.matmul(vector_input, w2)\n",
    "    act1 = relu(H1)\n",
    "    H2 = np.matmul(act1, w3)\n",
    "    act2 = relu(H2)\n",
    "\n",
    "    # Derivadas Parciales Parametros\n",
    "    dw4 = np.matmul(error_salida.T, act2) / len(vector_input)\n",
    "    dw3 = np.matmul(delta_capa3.T, act1) / len(vector_input)\n",
    "    dw2 = np.matmul(delta_capa2.T, vector_input) / len(vector_input)\n",
    "\n",
    "    # Gradiente Descent\n",
    "    w2 = w2 - lr*dw2.T\n",
    "    w3 = w3 - lr*dw3.T\n",
    "    w4 = w4 - lr*dw4.T\n",
    "    \n",
    "    if i % 20 == 0:\n",
    "        print('resultado:', i, vector_output)\n",
    "        print('error:', i, error_salida)\n",
    "        "
   ]
  }
 ],
 "metadata": {
  "kernelspec": {
   "display_name": "Python 3",
   "language": "python",
   "name": "python3"
  },
  "language_info": {
   "codemirror_mode": {
    "name": "ipython",
    "version": 3
   },
   "file_extension": ".py",
   "mimetype": "text/x-python",
   "name": "python",
   "nbconvert_exporter": "python",
   "pygments_lexer": "ipython3",
   "version": "3.7.6"
  }
 },
 "nbformat": 4,
 "nbformat_minor": 4
}
