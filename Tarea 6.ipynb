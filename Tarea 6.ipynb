{
 "cells": [
  {
   "cell_type": "markdown",
   "metadata": {},
   "source": [
    "### **Nombre:** Elda Magally Calderón Motta\n",
    "### **Carné:** 16003182\n",
    "### **Sección:** U"
   ]
  },
  {
   "cell_type": "markdown",
   "metadata": {},
   "source": [
    "# **TAREA 6**\n",
    "\n",
    "# Primera Parte \n",
    "\n",
    "## Backward Propagation Delta (Error Simplificado)"
   ]
  },
  {
   "cell_type": "code",
   "execution_count": 1,
   "metadata": {},
   "outputs": [],
   "source": [
    "import numpy as np\n",
    "import matplotlib.pyplot as plt"
   ]
  },
  {
   "cell_type": "markdown",
   "metadata": {},
   "source": [
    "## Diagrama\n",
    "\n",
    "<img src = 'http://imgfz.com/i/2AOBoZL.png'>"
   ]
  },
  {
   "cell_type": "markdown",
   "metadata": {},
   "source": [
    "### Backward Propagation"
   ]
  },
  {
   "cell_type": "code",
   "execution_count": 2,
   "metadata": {},
   "outputs": [],
   "source": [
    "# Vector error capa de salida\n",
    "error_salida = np.array([[3,10]])"
   ]
  },
  {
   "cell_type": "code",
   "execution_count": 3,
   "metadata": {},
   "outputs": [],
   "source": [
    "# Parametros capa 3\n",
    "w_capa3 = np.array([\n",
    "    [-0.23, 0.22, 0.77], \n",
    "    [0.9, 0.88, -0.4],\n",
    "])"
   ]
  },
  {
   "cell_type": "code",
   "execution_count": 4,
   "metadata": {},
   "outputs": [],
   "source": [
    "# Propagacion del error a la capa 3\n",
    "error_capa3 = np.matmul(error_salida, w_capa3)"
   ]
  },
  {
   "cell_type": "code",
   "execution_count": 5,
   "metadata": {},
   "outputs": [],
   "source": [
    "# Parametros capa 2\n",
    "w_capa2 = np.array([\n",
    "    [-0.3, 0.62, 0.45], \n",
    "    [0.45, 0.57, 0.48],\n",
    "    [0.65, 0.58, -0.45]\n",
    "])"
   ]
  },
  {
   "cell_type": "code",
   "execution_count": 6,
   "metadata": {},
   "outputs": [],
   "source": [
    "# Propagacion del error a la capa 2\n",
    "error_capa2 = np.matmul(error_capa3, w_capa2)"
   ]
  },
  {
   "cell_type": "code",
   "execution_count": 7,
   "metadata": {},
   "outputs": [],
   "source": [
    "# Parametros capa 1\n",
    "w_capa1 = np.array([\n",
    "    [0.3, 0.46, 0.02], \n",
    "    [0.22, -0.7, 0.65],\n",
    "    [0.65, 0.9, 0.34]\n",
    "])"
   ]
  },
  {
   "cell_type": "code",
   "execution_count": 8,
   "metadata": {},
   "outputs": [],
   "source": [
    "# Propagacion del error a la capa 1 (entrada)\n",
    "error_capa1 = np.matmul(error_capa2, w_capa1)"
   ]
  },
  {
   "cell_type": "code",
   "execution_count": 9,
   "metadata": {},
   "outputs": [
    {
     "name": "stdout",
     "output_type": "stream",
     "text": [
      "Error Neuronas Capa 1: [[8.180294 1.74791  9.303912]]\n",
      "Error Neuronas Capa 2: [[0.6655 9.5642 9.0408]]\n",
      "Error Neuronas Capa 3: [[ 8.31  9.46 -1.69]]\n",
      "Error Neuronas Capa Salida: [[ 3 10]]\n"
     ]
    }
   ],
   "source": [
    "# Errores por neurona\n",
    "\n",
    "print('Error Neuronas Capa 1:', error_capa1)\n",
    "print('Error Neuronas Capa 2:', error_capa2)\n",
    "print('Error Neuronas Capa 3:', error_capa3)\n",
    "print('Error Neuronas Capa Salida:', error_salida)"
   ]
  },
  {
   "cell_type": "markdown",
   "metadata": {},
   "source": [
    "# Segunda Parte \n",
    "\n",
    "## Entrenar Aproximador para XOR"
   ]
  },
  {
   "cell_type": "markdown",
   "metadata": {},
   "source": [
    "### Red Neuronal XOR\n",
    "\n",
    "<img src = 'http://imgfz.com/i/aYX8w9y.jpeg'>"
   ]
  },
  {
   "cell_type": "markdown",
   "metadata": {},
   "source": [
    "### Feedforward Propagation"
   ]
  },
  {
   "cell_type": "code",
   "execution_count": 99,
   "metadata": {},
   "outputs": [],
   "source": [
    "# Vector de entrada:\n",
    "\n",
    "vector_input = np.array([\n",
    "    [0,0],\n",
    "    [0,1],\n",
    "    [1,0],\n",
    "    [1,1]\n",
    "])\n",
    "\n",
    "y_real = np.array([\n",
    "    [0],\n",
    "    [1],\n",
    "    [1],\n",
    "    [0]\n",
    "])"
   ]
  },
  {
   "cell_type": "code",
   "execution_count": 138,
   "metadata": {},
   "outputs": [],
   "source": [
    "# Inicilizando parametros aleatoriamente \n",
    "# Neuronas en filas\n",
    "\n",
    "mu, sigma = 0, 0.1\n",
    "w2 = np.random.normal(mu, sigma, 6).reshape(2,-1)\n",
    "w3 = np.random.normal(mu, sigma, 6).reshape(3,-1)\n",
    "w4 = np.random.normal(mu, sigma, 2).reshape(2,-1)"
   ]
  },
  {
   "cell_type": "code",
   "execution_count": 12,
   "metadata": {},
   "outputs": [],
   "source": [
    "# Funcion Relu\n",
    "\n",
    "def relu(x):\n",
    "    a = x\n",
    "    a[a < 0] = 0\n",
    "    return a"
   ]
  },
  {
   "cell_type": "code",
   "execution_count": 114,
   "metadata": {},
   "outputs": [],
   "source": [
    "# Representaciones Intermedias\n",
    "H1 = np.matmul(vector_input, w2)\n",
    "act1 = relu(H1)"
   ]
  },
  {
   "cell_type": "code",
   "execution_count": 115,
   "metadata": {},
   "outputs": [],
   "source": [
    "H2 = np.matmul(act1, w3)\n",
    "act2 = relu(H2)"
   ]
  },
  {
   "cell_type": "code",
   "execution_count": 103,
   "metadata": {},
   "outputs": [],
   "source": [
    "H3 = np.matmul(act2, w4)\n",
    "vector_output = H3"
   ]
  },
  {
   "cell_type": "markdown",
   "metadata": {},
   "source": [
    "### Backward Propagation"
   ]
  },
  {
   "cell_type": "code",
   "execution_count": 17,
   "metadata": {},
   "outputs": [],
   "source": [
    "# Funcion Derivada Relu\n",
    "\n",
    "def der_relu(x):\n",
    "    a = x\n",
    "    a[a >= 0] = 1\n",
    "    a[a < 0] = 0\n",
    "    return (a)"
   ]
  },
  {
   "cell_type": "code",
   "execution_count": 108,
   "metadata": {},
   "outputs": [],
   "source": [
    "# Error en Salida\n",
    "error_salida = - y_real + vector_output"
   ]
  },
  {
   "cell_type": "code",
   "execution_count": 109,
   "metadata": {},
   "outputs": [],
   "source": [
    "delta_capa3 = np.matmul(error_salida, w4.T)*der_relu(H2)"
   ]
  },
  {
   "cell_type": "code",
   "execution_count": 119,
   "metadata": {},
   "outputs": [],
   "source": [
    "delta_capa2 = np.matmul(delta_capa3, w3.T)*der_relu(H1)"
   ]
  },
  {
   "cell_type": "code",
   "execution_count": 65,
   "metadata": {},
   "outputs": [],
   "source": [
    "dw4 = np.matmul(error_salida.T, act2) / len(vector_input)"
   ]
  },
  {
   "cell_type": "code",
   "execution_count": 66,
   "metadata": {},
   "outputs": [],
   "source": [
    "dw3 = np.matmul(delta_capa3.T, act1) / len(vector_input)"
   ]
  },
  {
   "cell_type": "code",
   "execution_count": 67,
   "metadata": {},
   "outputs": [],
   "source": [
    "dw2 = np.matmul(delta_capa2.T, vector_input) / len(vector_input)"
   ]
  },
  {
   "cell_type": "code",
   "execution_count": 68,
   "metadata": {},
   "outputs": [],
   "source": [
    "# Gradiente Descent\n",
    "lr = 0.1\n",
    "\n",
    "w2 = w2 - lr*dw2.T\n",
    "w3 = w3 - lr*dw3.T\n",
    "w4 = w4 - lr*dw4.T"
   ]
  },
  {
   "cell_type": "code",
   "execution_count": 69,
   "metadata": {},
   "outputs": [
    {
     "data": {
      "text/plain": [
       "array([[ 9.71089418,  9.14041553],\n",
       "       [10.21874001,  9.61842731],\n",
       "       [ 9.8434352 ,  9.26517026]])"
      ]
     },
     "execution_count": 69,
     "metadata": {},
     "output_type": "execute_result"
    }
   ],
   "source": [
    "dw2"
   ]
  },
  {
   "cell_type": "code",
   "execution_count": 70,
   "metadata": {},
   "outputs": [
    {
     "name": "stdout",
     "output_type": "stream",
     "text": [
      "[[ 0.        ]\n",
      " [ 4.88937416]\n",
      " [ 5.9989282 ]\n",
      " [12.88830236]]\n"
     ]
    }
   ],
   "source": [
    "print(error_salida)"
   ]
  },
  {
   "cell_type": "markdown",
   "metadata": {},
   "source": [
    "# Funcion Entrenamiento"
   ]
  },
  {
   "cell_type": "code",
   "execution_count": 171,
   "metadata": {},
   "outputs": [],
   "source": [
    "def entrenamiento_xor():\n",
    "\n",
    "    # Vector de entrada:\n",
    "    vector_input = np.array([\n",
    "        [0,0],\n",
    "        [0,1],\n",
    "        [1,0],\n",
    "        [1,1]\n",
    "    ])\n",
    "\n",
    "    y_real = np.array([\n",
    "        [0],\n",
    "        [1],\n",
    "        [1],\n",
    "        [0]\n",
    "    ])\n",
    "\n",
    "    # Inicilizando parametros aleatoriamente \n",
    "    # Neuronas en filas\n",
    "\n",
    "    mu, sigma = 1, 1\n",
    "    w2 = np.random.normal(mu, sigma, 6).reshape(2,-1)\n",
    "    w3 = np.random.normal(mu, sigma, 6).reshape(3,-1)\n",
    "    w4 = np.random.normal(mu, sigma, 2).reshape(2,-1)\n",
    "\n",
    "    lr = 0.1\n",
    "\n",
    "    # Entrenamiento\n",
    "    for i in range(5105):\n",
    "        # Representaciones Intermedias\n",
    "        H1 = np.matmul(vector_input, w2)\n",
    "        act1 = relu(H1)\n",
    "\n",
    "        H2 = np.matmul(act1, w3)\n",
    "        act2 = relu(H2)\n",
    "\n",
    "        H3 = np.matmul(act2, w4)\n",
    "        vector_output = H3\n",
    "\n",
    "        # Deltas\n",
    "        error_salida = vector_output - y_real\n",
    "        delta_capa3 = np.matmul(error_salida, w4.T)*der_relu(H2)\n",
    "        delta_capa2 = np.matmul(delta_capa3, w3.T)*der_relu(H1)\n",
    "\n",
    "        H1 = np.matmul(vector_input, w2)\n",
    "        act1 = relu(H1)\n",
    "        H2 = np.matmul(act1, w3)\n",
    "        act2 = relu(H2)\n",
    "\n",
    "        # Derivadas Parciales Parametros\n",
    "        dw4 = np.matmul(error_salida.T, act2) / len(vector_input)\n",
    "        dw3 = np.matmul(delta_capa3.T, act1) / len(vector_input)\n",
    "        dw2 = np.matmul(delta_capa2.T, vector_input) / len(vector_input)\n",
    "\n",
    "        # Gradiente Descent\n",
    "        w2 = w2 - lr*dw2.T\n",
    "        w3 = w3 - lr*dw3.T\n",
    "        w4 = w4 - lr*dw4.T\n",
    "\n",
    "    print('vector output:', '\\n', vector_output, '\\n')\n",
    "    print('error:', '\\n', error_salida, '\\n')\n",
    "    print('parametros w2:', '\\n', w2, '\\n')\n",
    "    print('parametros w3:', '\\n', w3, '\\n')\n",
    "    print('parametros w4:', '\\n', w4, '\\n')        \n",
    "    \n",
    "    return(H2, act2)"
   ]
  },
  {
   "cell_type": "markdown",
   "metadata": {},
   "source": [
    "### Experimento 1"
   ]
  },
  {
   "cell_type": "code",
   "execution_count": 177,
   "metadata": {},
   "outputs": [
    {
     "name": "stdout",
     "output_type": "stream",
     "text": [
      "vector output: \n",
      " [[0.        ]\n",
      " [1.01934027]\n",
      " [1.08439901]\n",
      " [0.01330976]] \n",
      "\n",
      "error: \n",
      " [[0.        ]\n",
      " [0.01934027]\n",
      " [0.08439901]\n",
      " [0.01330976]] \n",
      "\n",
      "parametros w2: \n",
      " [[ 0.10351901 -0.01678186 -0.31596266]\n",
      " [-1.83799931  0.01806773  0.11738836]] \n",
      "\n",
      "parametros w3: \n",
      " [[1.32824951 2.24226973]\n",
      " [0.01814827 0.59295113]\n",
      " [0.71925809 2.2748137 ]] \n",
      "\n",
      "parametros w4: \n",
      " [[1.39491103]\n",
      " [3.048032  ]] \n",
      "\n"
     ]
    }
   ],
   "source": [
    "Int1, Act1 = entrenamiento_xor()"
   ]
  },
  {
   "cell_type": "markdown",
   "metadata": {},
   "source": [
    "### Experimento 2"
   ]
  },
  {
   "cell_type": "code",
   "execution_count": 180,
   "metadata": {},
   "outputs": [
    {
     "name": "stdout",
     "output_type": "stream",
     "text": [
      "vector output: \n",
      " [[0.]\n",
      " [1.]\n",
      " [1.]\n",
      " [0.]] \n",
      "\n",
      "error: \n",
      " [[ 0.00000000e+00]\n",
      " [-4.88498131e-15]\n",
      " [-8.88178420e-16]\n",
      " [ 0.00000000e+00]] \n",
      "\n",
      "parametros w2: \n",
      " [[  0.78682999   1.62738857 -10.76729182]\n",
      " [ -0.30815404   0.19406067   0.18499644]] \n",
      "\n",
      "parametros w3: \n",
      " [[ 0.99403997  1.38988521]\n",
      " [-0.99447067 -0.36526114]\n",
      " [ 2.63492573  1.76679255]] \n",
      "\n",
      "parametros w4: \n",
      " [[1.65461724]\n",
      " [2.00327911]] \n",
      "\n"
     ]
    }
   ],
   "source": [
    "Int2, Act2 = entrenamiento_xor()"
   ]
  },
  {
   "cell_type": "markdown",
   "metadata": {},
   "source": [
    "### Experimento 3"
   ]
  },
  {
   "cell_type": "code",
   "execution_count": 184,
   "metadata": {},
   "outputs": [
    {
     "name": "stdout",
     "output_type": "stream",
     "text": [
      "vector output: \n",
      " [[0.]\n",
      " [1.]\n",
      " [1.]\n",
      " [0.]] \n",
      "\n",
      "error: \n",
      " [[0.0000000e+00]\n",
      " [4.4408921e-16]\n",
      " [4.4408921e-16]\n",
      " [0.0000000e+00]] \n",
      "\n",
      "parametros w2: \n",
      " [[-4.75891612  1.43651767  3.55987143]\n",
      " [ 0.31482556  1.08624179 -0.78951532]] \n",
      "\n",
      "parametros w3: \n",
      " [[ 2.06453363  2.73492983]\n",
      " [-1.22070112 -0.2979673 ]\n",
      " [-0.20299445  0.27118861]] \n",
      "\n",
      "parametros w4: \n",
      " [[1.57775278]\n",
      " [1.86094538]] \n",
      "\n"
     ]
    }
   ],
   "source": [
    "Int3, Act3 = entrenamiento_xor()"
   ]
  },
  {
   "cell_type": "markdown",
   "metadata": {},
   "source": [
    "### Experimento 4"
   ]
  },
  {
   "cell_type": "code",
   "execution_count": 189,
   "metadata": {},
   "outputs": [
    {
     "name": "stdout",
     "output_type": "stream",
     "text": [
      "vector output: \n",
      " [[0.00000000e+00]\n",
      " [1.00000000e+00]\n",
      " [1.00000000e+00]\n",
      " [1.24880589e-14]] \n",
      "\n",
      "error: \n",
      " [[0.00000000e+00]\n",
      " [6.43929354e-15]\n",
      " [2.24265051e-14]\n",
      " [1.24880589e-14]] \n",
      "\n",
      "parametros w2: \n",
      " [[ 0.50915087 -0.24964151  0.08974589]\n",
      " [ 0.82352097  3.06062551 -2.81989307]] \n",
      "\n",
      "parametros w3: \n",
      " [[-0.7083835   0.36126678]\n",
      " [ 0.33584067 -1.05094329]\n",
      " [ 1.23839341  3.108091  ]] \n",
      "\n",
      "parametros w4: \n",
      " [[2.24964869]\n",
      " [2.16039795]] \n",
      "\n"
     ]
    }
   ],
   "source": [
    "Int4, Act4 = entrenamiento_xor()"
   ]
  },
  {
   "cell_type": "markdown",
   "metadata": {},
   "source": [
    "### Experimento 5"
   ]
  },
  {
   "cell_type": "code",
   "execution_count": 191,
   "metadata": {},
   "outputs": [
    {
     "name": "stdout",
     "output_type": "stream",
     "text": [
      "vector output: \n",
      " [[0.00000000e+00]\n",
      " [1.00000000e+00]\n",
      " [1.00000000e+00]\n",
      " [1.47104551e-15]] \n",
      "\n",
      "error: \n",
      " [[ 0.00000000e+00]\n",
      " [-1.33226763e-15]\n",
      " [-1.22124533e-15]\n",
      " [ 1.47104551e-15]] \n",
      "\n",
      "parametros w2: \n",
      " [[-1.38894687  1.27670553  1.39099375]\n",
      " [ 1.25862487 -0.0646781  -1.63800666]] \n",
      "\n",
      "parametros w3: \n",
      " [[ 0.68871392  0.71833853]\n",
      " [ 1.3056529   0.11252187]\n",
      " [-0.56616204  0.54748275]] \n",
      "\n",
      "parametros w4: \n",
      " [[-0.10390525]\n",
      " [ 1.20566956]] \n",
      "\n"
     ]
    }
   ],
   "source": [
    "Int5, Act5 = entrenamiento_xor()"
   ]
  },
  {
   "cell_type": "markdown",
   "metadata": {},
   "source": [
    "## Graficos"
   ]
  },
  {
   "cell_type": "code",
   "execution_count": 240,
   "metadata": {},
   "outputs": [
    {
     "data": {
      "image/png": "[encoded data removed]",
      "text/plain": [
       "<Figure size 432x288 with 1 Axes>"
      ]
     },
     "metadata": {
      "needs_background": "light"
     },
     "output_type": "display_data"
    },
    {
     "data": {
      "image/png": "[encoded data removed]",
      "text/plain": [
       "<Figure size 432x288 with 1 Axes>"
      ]
     },
     "metadata": {
      "needs_background": "light"
     },
     "output_type": "display_data"
    },
    {
     "data": {
      "image/png": "[encoded data removed]",
      "text/plain": [
       "<Figure size 432x288 with 1 Axes>"
      ]
     },
     "metadata": {
      "needs_background": "light"
     },
     "output_type": "display_data"
    },
    {
     "data": {
      "image/png": "[encoded data removed]",
      "text/plain": [
       "<Figure size 432x288 with 1 Axes>"
      ]
     },
     "metadata": {
      "needs_background": "light"
     },
     "output_type": "display_data"
    },
    {
     "data": {
      "image/png": "[encoded data removed]",
      "text/plain": [
       "<Figure size 432x288 with 1 Axes>"
      ]
     },
     "metadata": {
      "needs_background": "light"
     },
     "output_type": "display_data"
    }
   ],
   "source": [
    "# Experimento 1\n",
    "plt.scatter(Int1[:,0].reshape(1,-1), Int1[:,1].reshape(1,-1), c=y_real.reshape(1,-1))\n",
    "plt.title('Grafico Experimento 1')\n",
    "plt.show()\n",
    "\n",
    "# Experimento 2\n",
    "plt.scatter(Int2[:,0].reshape(1,-1), Int2[:,1].reshape(1,-1), c=y_real.reshape(1,-1))\n",
    "plt.title('Grafico Experimento 2')\n",
    "plt.show()\n",
    "\n",
    "# Experimento 3\n",
    "plt.scatter(Int3[:,0].reshape(1,-1), Int3[:,1].reshape(1,-1), c=y_real.reshape(1,-1))\n",
    "plt.title('Grafico Experimento 3')\n",
    "plt.show()\n",
    "\n",
    "# Experimento 4\n",
    "plt.scatter(Int4[:,0].reshape(1,-1), Int4[:,1].reshape(1,-1), c=y_real.reshape(1,-1))\n",
    "plt.title('Grafico Experimento 4')\n",
    "plt.show()\n",
    "\n",
    "# Experimento 5\n",
    "plt.scatter(Int5[:,0].reshape(1,-1), Int5[:,1].reshape(1,-1), c=y_real.reshape(1,-1))\n",
    "plt.title('Grafico Experimento 5')\n",
    "plt.show()"
   ]
  },
  {
   "cell_type": "markdown",
   "metadata": {},
   "source": [
    "# Conclusiones\n",
    "\n",
    "Como puede verse en los graficos de las representaciones intermedias de la segunda capa oculta, los datos fueron mapeados a un espacio latente de forma que pueden clasificarse fácilmente si se cruzará una línea. Esto es posible como parte del proceso de composición de funciones que se lleva a cabo en el entramiento de las redes neuronales.\n",
    "\n",
    "También se puede ver en los gráficos que las representaciones intermedias siguen un cierto patrón, puede verse como los puntos amarillos (que corresponden a la clase 1) quedan en la parte superior derecha en la mayor parte de los experimentos, mientras que en la mayoría de experimentos los morados (que corresponden a la clase 0) quedan en la parte inferior izquierda. \n",
    "\n",
    "Otro punto interesante a comentar es que durante el entrenamiento se intentó inicializar con una distribución normal centrada en 0 y std de 0.1, sin embargo, la red neuronal no se entrenaba por lo que se cambió los parámetros de la inicialización a media 1 y std 1. Con esta distribución normal para inicializar los parámetros se logró el entrenamiento de la red neuronal, por lo que se puede ver la importancia que tiene la inicialización en un modelo y la experimentación para lograr un entrenamiento adecuado"
   ]
  }
 ],
 "metadata": {
  "kernelspec": {
   "display_name": "Python 3",
   "language": "python",
   "name": "python3"
  },
  "language_info": {
   "codemirror_mode": {
    "name": "ipython",
    "version": 3
   },
   "file_extension": ".py",
   "mimetype": "text/x-python",
   "name": "python",
   "nbconvert_exporter": "python",
   "pygments_lexer": "ipython3",
   "version": "3.7.6"
  }
 },
 "nbformat": 4,
 "nbformat_minor": 4
}
