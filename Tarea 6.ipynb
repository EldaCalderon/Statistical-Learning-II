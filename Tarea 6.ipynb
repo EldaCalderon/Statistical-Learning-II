{
 "cells": [
  {
   "cell_type": "markdown",
   "metadata": {},
   "source": [
    "### **Nombre:** Elda Magally Calderón Motta\n",
    "### **Carné:** 16003182\n",
    "### **Sección:** U"
   ]
  },
  {
   "cell_type": "markdown",
   "metadata": {},
   "source": [
    "# **TAREA 6**\n",
    "\n",
    "# Primera Parte \n",
    "\n",
    "## Backward Propagation Delta (Error Simplificado)"
   ]
  },
  {
   "cell_type": "code",
   "execution_count": 485,
   "metadata": {},
   "outputs": [],
   "source": [
    "import numpy as np\n",
    "import matplotlib.pyplot as plt"
   ]
  },
  {
   "cell_type": "markdown",
   "metadata": {},
   "source": [
    "## Diagrama\n",
    "\n",
    "<img src = 'http://imgfz.com/i/2AOBoZL.png'>"
   ]
  },
  {
   "cell_type": "markdown",
   "metadata": {},
   "source": [
    "### Backward Propagation"
   ]
  },
  {
   "cell_type": "code",
   "execution_count": 486,
   "metadata": {},
   "outputs": [],
   "source": [
    "# Vector error capa de salida\n",
    "error_salida = np.array([[3,10]])"
   ]
  },
  {
   "cell_type": "code",
   "execution_count": 487,
   "metadata": {},
   "outputs": [],
   "source": [
    "# Parametros capa 3\n",
    "w_capa3 = np.array([\n",
    "    [-0.23, 0.22, 0.77], \n",
    "    [0.9, 0.88, -0.4],\n",
    "])"
   ]
  },
  {
   "cell_type": "code",
   "execution_count": 488,
   "metadata": {},
   "outputs": [],
   "source": [
    "# Propagacion del error a la capa 3\n",
    "error_capa3 = np.matmul(error_salida, w_capa3)"
   ]
  },
  {
   "cell_type": "code",
   "execution_count": 489,
   "metadata": {},
   "outputs": [],
   "source": [
    "# Parametros capa 2\n",
    "w_capa2 = np.array([\n",
    "    [-0.3, 0.62, 0.45], \n",
    "    [0.45, 0.57, 0.48],\n",
    "    [0.65, 0.58, -0.45]\n",
    "])"
   ]
  },
  {
   "cell_type": "code",
   "execution_count": 490,
   "metadata": {},
   "outputs": [],
   "source": [
    "# Propagacion del error a la capa 2\n",
    "error_capa2 = np.matmul(error_capa3, w_capa2)"
   ]
  },
  {
   "cell_type": "code",
   "execution_count": 491,
   "metadata": {},
   "outputs": [],
   "source": [
    "# Parametros capa 1\n",
    "w_capa1 = np.array([\n",
    "    [0.3, 0.46, 0.02], \n",
    "    [0.22, -0.7, 0.65],\n",
    "    [0.65, 0.9, 0.34]\n",
    "])"
   ]
  },
  {
   "cell_type": "code",
   "execution_count": 492,
   "metadata": {},
   "outputs": [],
   "source": [
    "# Propagacion del error a la capa 1 (entrada)\n",
    "error_capa1 = np.matmul(error_capa2, w_capa1)"
   ]
  },
  {
   "cell_type": "code",
   "execution_count": 493,
   "metadata": {},
   "outputs": [
    {
     "name": "stdout",
     "output_type": "stream",
     "text": [
      "Error Neuronas Capa 1: [[8.180294 1.74791  9.303912]]\n",
      "Error Neuronas Capa 2: [[0.6655 9.5642 9.0408]]\n",
      "Error Neuronas Capa 3: [[ 8.31  9.46 -1.69]]\n",
      "Error Neuronas Capa Salida: [[ 3 10]]\n"
     ]
    }
   ],
   "source": [
    "# Errores por neurona\n",
    "\n",
    "print('Error Neuronas Capa 1:', error_capa1)\n",
    "print('Error Neuronas Capa 2:', error_capa2)\n",
    "print('Error Neuronas Capa 3:', error_capa3)\n",
    "print('Error Neuronas Capa Salida:', error_salida)"
   ]
  },
  {
   "cell_type": "markdown",
   "metadata": {},
   "source": [
    "# Segunda Parte \n",
    "\n",
    "## Entrenar Aproximador para XOR"
   ]
  },
  {
   "cell_type": "markdown",
   "metadata": {},
   "source": [
    "### Red Neuronal XOR\n",
    "\n",
    "<img src = 'http://imgfz.com/i/aYX8w9y.jpeg'>"
   ]
  },
  {
   "cell_type": "markdown",
   "metadata": {},
   "source": [
    "### Feedforward Propagation"
   ]
  },
  {
   "cell_type": "code",
   "execution_count": 615,
   "metadata": {},
   "outputs": [],
   "source": [
    "# Vector de entrada:\n",
    "\n",
    "vector_input = np.array([\n",
    "    [0,0],\n",
    "    [0,1],\n",
    "    [1,0],\n",
    "    [1,1]\n",
    "])\n",
    "\n",
    "y_real = np.array([\n",
    "    [0],\n",
    "    [1],\n",
    "    [1],\n",
    "    [0]\n",
    "])"
   ]
  },
  {
   "cell_type": "code",
   "execution_count": 616,
   "metadata": {},
   "outputs": [],
   "source": [
    "# Inicilizando parametros aleatoriamente \n",
    "# Neuronas en filas\n",
    "\n",
    "mu, sigma = 0, 0.1\n",
    "w2 = np.random.normal(mu, sigma, 6).reshape(2,-1)\n",
    "w3 = np.random.normal(mu, sigma, 6).reshape(3,-1)\n",
    "w4 = np.random.normal(mu, sigma, 2).reshape(2,-1)"
   ]
  },
  {
   "cell_type": "code",
   "execution_count": 708,
   "metadata": {},
   "outputs": [],
   "source": [
    "# Funcion Relu\n",
    "\n",
    "def relu(x):\n",
    "    a = x\n",
    "    a[a < 0] = 0\n",
    "    return a"
   ]
  },
  {
   "cell_type": "code",
   "execution_count": 667,
   "metadata": {},
   "outputs": [],
   "source": [
    "# Representaciones Intermedias\n",
    "H1 = np.matmul(vector_input, w2)\n",
    "act1 = relu(H1)"
   ]
  },
  {
   "cell_type": "code",
   "execution_count": 668,
   "metadata": {},
   "outputs": [],
   "source": [
    "H2 = np.matmul(act1, w3)\n",
    "act2 = relu(H2)"
   ]
  },
  {
   "cell_type": "code",
   "execution_count": 669,
   "metadata": {},
   "outputs": [],
   "source": [
    "H3 = np.matmul(act2, w4)\n",
    "vector_output = H3"
   ]
  },
  {
   "cell_type": "code",
   "execution_count": 670,
   "metadata": {},
   "outputs": [
    {
     "data": {
      "text/plain": [
       "array([[0.        ],\n",
       "       [0.00046214],\n",
       "       [0.00070501],\n",
       "       [0.00116715]])"
      ]
     },
     "execution_count": 670,
     "metadata": {},
     "output_type": "execute_result"
    }
   ],
   "source": [
    "vector_output"
   ]
  },
  {
   "cell_type": "markdown",
   "metadata": {},
   "source": [
    "### Backward Propagation"
   ]
  },
  {
   "cell_type": "code",
   "execution_count": 621,
   "metadata": {},
   "outputs": [],
   "source": [
    "# Deltas Iniciales\n",
    "costo_capa4 = np.zeros(w4.shape)\n",
    "costo_capa3 = np.zeros(w3.shape)\n",
    "costo_capa2 = np.zeros(w2.shape)"
   ]
  },
  {
   "cell_type": "code",
   "execution_count": 501,
   "metadata": {},
   "outputs": [],
   "source": [
    "# Funcion Derivada Relu\n",
    "\n",
    "def der_relu(x):\n",
    "    a = x\n",
    "    a[a >= 0] = 1\n",
    "    a[a < 0] = 0\n",
    "    return (a)"
   ]
  },
  {
   "cell_type": "code",
   "execution_count": 671,
   "metadata": {},
   "outputs": [],
   "source": [
    "# Error en Salida\n",
    "error_salida = y_real - vector_output"
   ]
  },
  {
   "cell_type": "code",
   "execution_count": 681,
   "metadata": {},
   "outputs": [],
   "source": [
    "delta_capa3 = np.matmul(error_salida, w4.T)*der_relu(H2)"
   ]
  },
  {
   "cell_type": "code",
   "execution_count": 673,
   "metadata": {},
   "outputs": [],
   "source": [
    "delta_capa2 = np.matmul(delta_capa3, w3.T)*der_relu(H1)"
   ]
  },
  {
   "cell_type": "code",
   "execution_count": 674,
   "metadata": {},
   "outputs": [],
   "source": [
    "costo_capa4 = np.matmul(error_salida.T, act2)"
   ]
  },
  {
   "cell_type": "code",
   "execution_count": 675,
   "metadata": {},
   "outputs": [],
   "source": [
    "costo_capa3 = np.matmul(delta_capa3.T, act1)"
   ]
  },
  {
   "cell_type": "code",
   "execution_count": 676,
   "metadata": {},
   "outputs": [],
   "source": [
    "costo_capa2 = np.matmul(delta_capa2.T, vector_input)"
   ]
  },
  {
   "cell_type": "code",
   "execution_count": 677,
   "metadata": {},
   "outputs": [],
   "source": [
    "# Actualizacion de Costos\n",
    "costo_capa4 += costo_capa4\n",
    "costo_capa3 += costo_capa3\n",
    "costo_capa2 += costo_capa2"
   ]
  },
  {
   "cell_type": "code",
   "execution_count": 678,
   "metadata": {},
   "outputs": [],
   "source": [
    "# Gradiente Descent\n",
    "lr = 0.1\n",
    "\n",
    "w2 = w2 - lr*costo_capa2.T\n",
    "w3 = w3 - lr*costo_capa3.T\n",
    "w4 = w4 - lr*costo_capa4.T"
   ]
  },
  {
   "cell_type": "code",
   "execution_count": 679,
   "metadata": {},
   "outputs": [
    {
     "name": "stdout",
     "output_type": "stream",
     "text": [
      "[[ 0.02456542  0.09183525 -0.03642401]\n",
      " [ 0.06147942  0.07914314 -0.09446587]]\n"
     ]
    }
   ],
   "source": [
    "print(w2)"
   ]
  },
  {
   "cell_type": "code",
   "execution_count": 680,
   "metadata": {},
   "outputs": [
    {
     "name": "stdout",
     "output_type": "stream",
     "text": [
      "[[ 0.        ]\n",
      " [ 0.99953786]\n",
      " [ 0.99929499]\n",
      " [-0.00116715]]\n"
     ]
    }
   ],
   "source": [
    "print(error_salida)"
   ]
  },
  {
   "cell_type": "markdown",
   "metadata": {},
   "source": [
    "# Funcion"
   ]
  },
  {
   "cell_type": "code",
   "execution_count": 709,
   "metadata": {},
   "outputs": [],
   "source": [
    "# Vector de entrada:\n",
    "\n",
    "vector_input = np.array([\n",
    "    [0,0],\n",
    "    [0,1],\n",
    "    [1,0],\n",
    "    [1,1]\n",
    "])\n",
    "\n",
    "y_real = np.array([\n",
    "    [0],\n",
    "    [1],\n",
    "    [1],\n",
    "    [0]\n",
    "])\n",
    "\n",
    "# Inicilizando parametros aleatoriamente \n",
    "# Neuronas en filas\n",
    "\n",
    "mu, sigma = 0, 0.1\n",
    "w2 = np.random.normal(mu, sigma, 6).reshape(2,-1)\n",
    "w3 = np.random.normal(mu, sigma, 6).reshape(3,-1)\n",
    "w4 = np.random.normal(mu, sigma, 2).reshape(2,-1)\n",
    "\n",
    "costo_capa4 = np.zeros(w4.shape)\n",
    "costo_capa3 = np.zeros(w3.shape)\n",
    "costo_capa2 = np.zeros(w2.shape)"
   ]
  },
  {
   "cell_type": "code",
   "execution_count": 706,
   "metadata": {},
   "outputs": [
    {
     "name": "stdout",
     "output_type": "stream",
     "text": [
      "resultado: 0 [[0.00000000e+00]\n",
      " [7.26011422e-05]\n",
      " [0.00000000e+00]\n",
      " [2.65741922e-05]]\n",
      "error: 0 [[ 0.00000000e+00]\n",
      " [ 9.99927399e-01]\n",
      " [ 1.00000000e+00]\n",
      " [-2.65741922e-05]]\n",
      "resultado: 1 [[0.00000000e+00]\n",
      " [7.22392031e-05]\n",
      " [0.00000000e+00]\n",
      " [2.62706310e-05]]\n",
      "error: 1 [[ 0.00000000e+00]\n",
      " [ 9.99927761e-01]\n",
      " [ 1.00000000e+00]\n",
      " [-2.62706310e-05]]\n",
      "resultado: 2 [[0.00000000e+00]\n",
      " [7.18789464e-05]\n",
      " [0.00000000e+00]\n",
      " [2.59695636e-05]]\n",
      "error: 2 [[ 0.00000000e+00]\n",
      " [ 9.99928121e-01]\n",
      " [ 1.00000000e+00]\n",
      " [-2.59695636e-05]]\n",
      "resultado: 3 [[0.00000000e+00]\n",
      " [7.15203626e-05]\n",
      " [0.00000000e+00]\n",
      " [2.56709744e-05]]\n",
      "error: 3 [[ 0.00000000e+00]\n",
      " [ 9.99928480e-01]\n",
      " [ 1.00000000e+00]\n",
      " [-2.56709744e-05]]\n",
      "resultado: 4 [[0.00000000e+00]\n",
      " [7.11634426e-05]\n",
      " [0.00000000e+00]\n",
      " [2.53748477e-05]]\n",
      "error: 4 [[ 0.00000000e+00]\n",
      " [ 9.99928837e-01]\n",
      " [ 1.00000000e+00]\n",
      " [-2.53748477e-05]]\n",
      "resultado: 5 [[0.00000000e+00]\n",
      " [7.08081770e-05]\n",
      " [0.00000000e+00]\n",
      " [2.50811683e-05]]\n",
      "error: 5 [[ 0.00000000e+00]\n",
      " [ 9.99929192e-01]\n",
      " [ 1.00000000e+00]\n",
      " [-2.50811683e-05]]\n",
      "resultado: 6 [[0.00000000e+00]\n",
      " [7.04545565e-05]\n",
      " [0.00000000e+00]\n",
      " [2.47899208e-05]]\n",
      "error: 6 [[ 0.00000000e+00]\n",
      " [ 9.99929545e-01]\n",
      " [ 1.00000000e+00]\n",
      " [-2.47899208e-05]]\n",
      "resultado: 7 [[0.00000000e+00]\n",
      " [7.01025721e-05]\n",
      " [0.00000000e+00]\n",
      " [2.45010900e-05]]\n",
      "error: 7 [[ 0.00000000e+00]\n",
      " [ 9.99929897e-01]\n",
      " [ 1.00000000e+00]\n",
      " [-2.45010900e-05]]\n",
      "resultado: 8 [[0.00000000e+00]\n",
      " [6.97522145e-05]\n",
      " [0.00000000e+00]\n",
      " [2.42146607e-05]]\n",
      "error: 8 [[ 0.00000000e+00]\n",
      " [ 9.99930248e-01]\n",
      " [ 1.00000000e+00]\n",
      " [-2.42146607e-05]]\n",
      "resultado: 9 [[0.00000000e+00]\n",
      " [6.94034748e-05]\n",
      " [0.00000000e+00]\n",
      " [2.39306179e-05]]\n",
      "error: 9 [[ 0.00000000e+00]\n",
      " [ 9.99930597e-01]\n",
      " [ 1.00000000e+00]\n",
      " [-2.39306179e-05]]\n"
     ]
    }
   ],
   "source": [
    "lr = 0.01\n",
    "\n",
    "for i in range(10):\n",
    "    # Representaciones Intermedias\n",
    "    H1 = np.matmul(vector_input, w2)\n",
    "    act1 = relu(H1)\n",
    "\n",
    "    H2 = np.matmul(act1, w3)\n",
    "    act2 = relu(H2)\n",
    "\n",
    "    H3 = np.matmul(act2, w4)\n",
    "    vector_output = H3\n",
    "\n",
    "    # Deltas\n",
    "    error_salida = y_real - vector_output\n",
    "    delta_capa3 = np.matmul(error_salida, w4.T)*der_relu(H2)\n",
    "    delta_capa2 = np.matmul(delta_capa3, w3.T)*der_relu(H1)\n",
    "\n",
    "    H1 = np.matmul(vector_input, w2)\n",
    "    act1 = relu(H1)\n",
    "    H2 = np.matmul(act1, w3)\n",
    "    act2 = relu(H2)\n",
    "\n",
    "    # Costos\n",
    "    costo_capa4 = np.matmul(error_salida.T, act2)\n",
    "    costo_capa3 = np.matmul(delta_capa3.T, act1)\n",
    "    costo_capa2 = np.matmul(delta_capa2.T, vector_input)\n",
    "\n",
    "    # Actualizacion de Costos\n",
    "    costo_capa4 += costo_capa4\n",
    "    costo_capa3 += costo_capa3\n",
    "    costo_capa2 += costo_capa2\n",
    "\n",
    "    # Gradiente Descent\n",
    "    w2 = w2 - lr*costo_capa2.T\n",
    "    w3 = w3 - lr*costo_capa3.T\n",
    "    w4 = w4 - lr*costo_capa4.T\n",
    "    \n",
    "    print('resultado:', i, vector_output)\n",
    "    print('error:', i, error_salida)"
   ]
  }
 ],
 "metadata": {
  "kernelspec": {
   "display_name": "Python 3",
   "language": "python",
   "name": "python3"
  },
  "language_info": {
   "codemirror_mode": {
    "name": "ipython",
    "version": 3
   },
   "file_extension": ".py",
   "mimetype": "text/x-python",
   "name": "python",
   "nbconvert_exporter": "python",
   "pygments_lexer": "ipython3",
   "version": "3.7.6"
  }
 },
 "nbformat": 4,
 "nbformat_minor": 4
}
